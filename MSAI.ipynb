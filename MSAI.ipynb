{
  "nbformat": 4,
  "nbformat_minor": 0,
  "metadata": {
    "colab": {
      "name": "MSAI.ipynb",
      "version": "0.3.2",
      "provenance": []
    },
    "kernelspec": {
      "name": "python3",
      "display_name": "Python 3"
    },
    "accelerator": "GPU"
  },
  "cells": [
    {
      "metadata": {
        "id": "I4cOxTqaYf0j",
        "colab_type": "code",
        "colab": {
          "base_uri": "https://localhost:8080/",
          "height": 122
        },
        "outputId": "765488b9-807d-40dc-e81b-b528cd149f51"
      },
      "cell_type": "code",
      "source": [
        "from google.colab import drive\n",
        "drive.mount('/content/gdrive')"
      ],
      "execution_count": 3,
      "outputs": [
        {
          "output_type": "stream",
          "text": [
            "Go to this URL in a browser: https://accounts.google.com/o/oauth2/auth?client_id=947318989803-6bn6qk8qdgf4n4g3pfee6491hc0brc4i.apps.googleusercontent.com&redirect_uri=urn%3Aietf%3Awg%3Aoauth%3A2.0%3Aoob&scope=email%20https%3A%2F%2Fwww.googleapis.com%2Fauth%2Fdocs.test%20https%3A%2F%2Fwww.googleapis.com%2Fauth%2Fdrive%20https%3A%2F%2Fwww.googleapis.com%2Fauth%2Fdrive.photos.readonly%20https%3A%2F%2Fwww.googleapis.com%2Fauth%2Fpeopleapi.readonly&response_type=code\n",
            "\n",
            "Enter your authorization code:\n",
            "··········\n",
            "Mounted at /content/gdrive\n"
          ],
          "name": "stdout"
        }
      ]
    },
    {
      "metadata": {
        "id": "132AgkR8YzRx",
        "colab_type": "code",
        "colab": {}
      },
      "cell_type": "code",
      "source": [
        "import pandas as pd\n",
        "df =pd.read_csv('/content/gdrive/My Drive/data_mi.csv',delimiter =\"|\" ,error_bad_lines = False, header = None)"
      ],
      "execution_count": 0,
      "outputs": []
    },
    {
      "metadata": {
        "id": "m_WJPAp_ZLe4",
        "colab_type": "code",
        "colab": {}
      },
      "cell_type": "code",
      "source": [
        "import numpy as np\n",
        "df.columns = ['query', 'passage', 'label_','label']\n",
        "df_ones = df[df['label'] == 1 ]\n",
        "# select the rows where labels are zeros but only a few \n",
        "df_zeros = df[df['label'] == 0].sample(frac=0.3)\n",
        "df_new = pd.concat([df_ones,df_zeros],ignore_index=True)\n",
        "x1=  np.array(df_new['query'])\n",
        "x2=  np.array(df_new['passage'])\n",
        "y_train1 = np.array(df_new['label_'])\n",
        "y_train2 = np.array(df_new['label'])"
      ],
      "execution_count": 0,
      "outputs": []
    },
    {
      "metadata": {
        "id": "a0z_er1yZOgn",
        "colab_type": "code",
        "colab": {}
      },
      "cell_type": "code",
      "source": [
        "y_train = np.column_stack((y_train1, y_train2))"
      ],
      "execution_count": 0,
      "outputs": []
    },
    {
      "metadata": {
        "id": "TN86CDJxZSdP",
        "colab_type": "code",
        "colab": {
          "base_uri": "https://localhost:8080/",
          "height": 51
        },
        "outputId": "045016d5-646c-401e-b9cc-d436a275ad79"
      },
      "cell_type": "code",
      "source": [
        "import tensorflow as tf\n",
        "print(tf.__version__)\n",
        "import pandas as pd\n",
        "import tensorflow_hub as hub\n",
        "import os\n",
        "import re\n",
        "from keras import backend as K\n",
        "import keras.layers as layers\n",
        "from keras.models import Model, load_model\n",
        "from keras.engine import Layer\n",
        "import numpy as np\n",
        "\n",
        "# Initialize session\n",
        "sess = tf.Session()\n",
        "K.set_session(sess)"
      ],
      "execution_count": 7,
      "outputs": [
        {
          "output_type": "stream",
          "text": [
            "1.12.0\n"
          ],
          "name": "stdout"
        },
        {
          "output_type": "stream",
          "text": [
            "Using TensorFlow backend.\n"
          ],
          "name": "stderr"
        }
      ]
    },
    {
      "metadata": {
        "id": "kmDRN8yWZWHi",
        "colab_type": "code",
        "colab": {
          "base_uri": "https://localhost:8080/",
          "height": 85
        },
        "outputId": "5abdabeb-109c-440f-c35b-8c9e0f89db04"
      },
      "cell_type": "code",
      "source": [
        "elmo_model = hub.Module(\"https://tfhub.dev/google/elmo/2\", trainable=True)\n",
        "sess.run(tf.global_variables_initializer())\n",
        "sess.run(tf.tables_initializer())"
      ],
      "execution_count": 8,
      "outputs": [
        {
          "output_type": "stream",
          "text": [
            "INFO:tensorflow:Using /tmp/tfhub_modules to cache modules.\n",
            "INFO:tensorflow:Downloading TF-Hub Module 'https://tfhub.dev/google/elmo/2'.\n",
            "INFO:tensorflow:Downloaded https://tfhub.dev/google/elmo/2, Total size: 357.40MB\n",
            "INFO:tensorflow:Downloaded TF-Hub Module 'https://tfhub.dev/google/elmo/2'.\n"
          ],
          "name": "stdout"
        }
      ]
    },
    {
      "metadata": {
        "id": "-Nw5XwtzZclb",
        "colab_type": "code",
        "colab": {}
      },
      "cell_type": "code",
      "source": [
        "def ElmoEmbedding(x):\n",
        "    return elmo_model(K.squeeze(K.cast(x, tf.string), axis=1),\n",
        "                      as_dict=True,\n",
        "                      signature='default',\n",
        "                      )['elmo']"
      ],
      "execution_count": 0,
      "outputs": []
    },
    {
      "metadata": {
        "id": "9g4UfQU4Zf_C",
        "colab_type": "code",
        "colab": {}
      },
      "cell_type": "code",
      "source": [
        "from keras.models import Model, Input\n",
        "from keras.layers.merge import add\n",
        "from keras.layers import LSTM, Embedding, Dense, TimeDistributed, Dropout, Bidirectional, Lambda"
      ],
      "execution_count": 0,
      "outputs": []
    },
    {
      "metadata": {
        "id": "S600c4yUZlZp",
        "colab_type": "code",
        "colab": {
          "base_uri": "https://localhost:8080/",
          "height": 51
        },
        "outputId": "f79abbc6-b0eb-45eb-aed8-3997ef28b5fc"
      },
      "cell_type": "code",
      "source": [
        "from keras.models import Model\n",
        "from keras.layers import Concatenate, Input, Dense,Dropout, LSTM, Bidirectional, Reshape\n",
        "import numpy as np\n",
        "\n",
        "# First model\n",
        "first_input = Input((1, ),dtype=\"string\")\n",
        "embedding1 = Lambda(ElmoEmbedding, output_shape=(12, 1024))(first_input)\n",
        "#rs = np.reshape(embedding1, (146671,1, 1024))\n",
        "bilsm = Bidirectional(LSTM(512, recurrent_dropout=0.2, dropout=0.2))(embedding1)\n",
        "first_dense1 = Dense(4)(bilsm)\n",
        "\n",
        "# Second model\n",
        "second_input = Input((1, ),dtype=\"string\")\n",
        "embedding2 = Lambda(ElmoEmbedding, output_shape=(12, 1024))(second_input)\n",
        "bilsm_ = Bidirectional(LSTM(512, recurrent_dropout=0.2, dropout=0.2))(embedding2)\n",
        "second_dense = Dense(4)(bilsm_)\n",
        "\n",
        "# Concatenate both\n",
        "merged = Concatenate()([first_dense1, second_dense])\n",
        "output_layer = Dense(2,activation='softmax')(merged)\n",
        "model = Model(inputs=[first_input, second_input], outputs=output_layer)\n",
        "model.compile(optimizer='adam', loss='binary_crossentropy', metrics =['accuracy'])"
      ],
      "execution_count": 11,
      "outputs": [
        {
          "output_type": "stream",
          "text": [
            "INFO:tensorflow:Saver not created because there are no variables in the graph to restore\n",
            "INFO:tensorflow:Saver not created because there are no variables in the graph to restore\n"
          ],
          "name": "stdout"
        }
      ]
    },
    {
      "metadata": {
        "id": "87S2puxjZpdq",
        "colab_type": "code",
        "colab": {
          "base_uri": "https://localhost:8080/",
          "height": 714
        },
        "outputId": "034ad985-6c56-4cb3-85e0-c7775d9f34b5"
      },
      "cell_type": "code",
      "source": [
        "model.fit([x1,x2],\n",
        "          y_train,\n",
        "          batch_size= 32,\n",
        "          epochs = 20)"
      ],
      "execution_count": 12,
      "outputs": [
        {
          "output_type": "stream",
          "text": [
            "Epoch 1/20\n",
            "36833/36833 [==============================] - 1041s 28ms/step - loss: 0.5640 - acc: 0.7322\n",
            "Epoch 2/20\n",
            "36833/36833 [==============================] - 1031s 28ms/step - loss: 0.5293 - acc: 0.7431\n",
            "Epoch 3/20\n",
            "36833/36833 [==============================] - 1043s 28ms/step - loss: 0.4926 - acc: 0.7609\n",
            "Epoch 4/20\n",
            "36833/36833 [==============================] - 1043s 28ms/step - loss: 0.4052 - acc: 0.8128\n",
            "Epoch 5/20\n",
            "36833/36833 [==============================] - 1043s 28ms/step - loss: 0.2677 - acc: 0.8874\n",
            "Epoch 6/20\n",
            "36833/36833 [==============================] - 1041s 28ms/step - loss: 0.1659 - acc: 0.9354\n",
            "Epoch 7/20\n",
            "36833/36833 [==============================] - 1040s 28ms/step - loss: 0.1229 - acc: 0.9541\n",
            "Epoch 8/20\n",
            "36833/36833 [==============================] - 1038s 28ms/step - loss: 0.0991 - acc: 0.9654\n",
            "Epoch 9/20\n",
            "36833/36833 [==============================] - 1035s 28ms/step - loss: 0.0882 - acc: 0.9686\n",
            "Epoch 10/20\n",
            "36833/36833 [==============================] - 1035s 28ms/step - loss: 0.0812 - acc: 0.9725\n",
            "Epoch 11/20\n",
            "36833/36833 [==============================] - 1040s 28ms/step - loss: 0.0770 - acc: 0.9740\n",
            "Epoch 12/20\n",
            "36833/36833 [==============================] - 1052s 29ms/step - loss: 0.0674 - acc: 0.9769\n",
            "Epoch 13/20\n",
            "36833/36833 [==============================] - 1047s 28ms/step - loss: 0.0681 - acc: 0.9765\n",
            "Epoch 14/20\n",
            "36833/36833 [==============================] - 1043s 28ms/step - loss: 0.0628 - acc: 0.9791\n",
            "Epoch 15/20\n",
            "36833/36833 [==============================] - 1044s 28ms/step - loss: 0.0607 - acc: 0.9796\n",
            "Epoch 16/20\n",
            "36833/36833 [==============================] - 1043s 28ms/step - loss: 0.0534 - acc: 0.9822\n",
            "Epoch 17/20\n",
            "36833/36833 [==============================] - 1049s 28ms/step - loss: 0.0535 - acc: 0.9827\n",
            "Epoch 18/20\n",
            "36833/36833 [==============================] - 1049s 28ms/step - loss: 0.0556 - acc: 0.9809\n",
            "Epoch 19/20\n",
            "36833/36833 [==============================] - 1052s 29ms/step - loss: 0.0498 - acc: 0.9828\n",
            "Epoch 20/20\n",
            "36833/36833 [==============================] - 1045s 28ms/step - loss: 0.0517 - acc: 0.9827\n"
          ],
          "name": "stdout"
        },
        {
          "output_type": "execute_result",
          "data": {
            "text/plain": [
              "<keras.callbacks.History at 0x7f7cae0572e8>"
            ]
          },
          "metadata": {
            "tags": []
          },
          "execution_count": 12
        }
      ]
    },
    {
      "metadata": {
        "id": "pkpFVGOQZugc",
        "colab_type": "code",
        "colab": {}
      },
      "cell_type": "code",
      "source": [
        "import pandas as pd\n",
        "evalu = pd.read_csv('/content/gdrive/My Drive/result.csv', delimiter ='|', header = None)"
      ],
      "execution_count": 0,
      "outputs": []
    },
    {
      "metadata": {
        "id": "D0K0UymZvurh",
        "colab_type": "code",
        "colab": {}
      },
      "cell_type": "code",
      "source": [
        "evalu.columns = ['query_id', 'query', 'passage']\n",
        "x1=  np.array(evalu['query'])\n",
        "x2=  np.array(evalu['passage'])"
      ],
      "execution_count": 0,
      "outputs": []
    },
    {
      "metadata": {
        "id": "YAsC8LkdvzHF",
        "colab_type": "code",
        "colab": {}
      },
      "cell_type": "code",
      "source": [
        "res = model.predict([x1,x2])"
      ],
      "execution_count": 0,
      "outputs": []
    },
    {
      "metadata": {
        "id": "KEqHDZtYv3eN",
        "colab_type": "code",
        "colab": {}
      },
      "cell_type": "code",
      "source": [
        "result = res[:,1]\n",
        "qid = np.array(evalu['query_id'])"
      ],
      "execution_count": 0,
      "outputs": []
    },
    {
      "metadata": {
        "id": "8oalA0wNv7D3",
        "colab_type": "code",
        "colab": {}
      },
      "cell_type": "code",
      "source": [
        "def TextData2(outputfile):\n",
        "  c =0\n",
        "  i=0\n",
        "  fw = open(outputfile,\"w\",encoding=\"utf-8\")\n",
        "  for j in range (10417):\n",
        "    fw.write( qid[c].astype(str)  + \"\\t\" + result[i].astype(str) + \"\\t\" +  result[i+1].astype(str) + \"\\t\" +  result[i+2].astype(str) + \"\\t\" +  result[i+3].astype(str) + \"\\t\" +  result[i+4].astype(str) + \"\\t\" +  result[i+5].astype(str) + \"\\t\" +  result[i+6].astype(str) + \"\\t\" +  result[i+7].astype(str) + \"\\t\" +  result[i+8].astype(str) + \"\\t\" +  result[i+9].astype(str) + \"\\n\")\n",
        "    c = c+10\n",
        "    i = i+10"
      ],
      "execution_count": 0,
      "outputs": []
    },
    {
      "metadata": {
        "id": "9WPgR4gov-eC",
        "colab_type": "code",
        "colab": {}
      },
      "cell_type": "code",
      "source": [
        "outputfile = '/content/gdrive/My Drive/answer3.tsv'\n",
        "TextData2(outputfile)"
      ],
      "execution_count": 0,
      "outputs": []
    },
    {
      "metadata": {
        "id": "4CTkoHxygsEt",
        "colab_type": "code",
        "colab": {}
      },
      "cell_type": "code",
      "source": [
        ""
      ],
      "execution_count": 0,
      "outputs": []
    }
  ]
}